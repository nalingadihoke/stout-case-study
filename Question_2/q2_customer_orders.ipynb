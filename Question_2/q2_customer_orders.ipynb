{
 "cells": [
  {
   "cell_type": "code",
   "execution_count": 151,
   "metadata": {},
   "outputs": [],
   "source": [
    "# import statements\n",
    "\n",
    "import pandas as pd\n",
    "import numpy as np\n",
    "import matplotlib\n",
    "import matplotlib.pyplot as plt"
   ]
  },
  {
   "cell_type": "code",
   "execution_count": 152,
   "metadata": {},
   "outputs": [],
   "source": [
    "# read dataframe\n",
    "df1 = pd.read_csv('/Users/nalingadihoke/Desktop/Stout_Case_Study/Question_2/data/casestudy.csv')\n",
    "df1 = df1.reset_index()"
   ]
  },
  {
   "cell_type": "code",
   "execution_count": 153,
   "metadata": {},
   "outputs": [
    {
     "data": {
      "text/html": [
       "<div>\n",
       "<style scoped>\n",
       "    .dataframe tbody tr th:only-of-type {\n",
       "        vertical-align: middle;\n",
       "    }\n",
       "\n",
       "    .dataframe tbody tr th {\n",
       "        vertical-align: top;\n",
       "    }\n",
       "\n",
       "    .dataframe thead th {\n",
       "        text-align: right;\n",
       "    }\n",
       "</style>\n",
       "<table border=\"1\" class=\"dataframe\">\n",
       "  <thead>\n",
       "    <tr style=\"text-align: right;\">\n",
       "      <th></th>\n",
       "      <th>index</th>\n",
       "      <th>customer_email</th>\n",
       "      <th>net_revenue</th>\n",
       "      <th>year</th>\n",
       "    </tr>\n",
       "  </thead>\n",
       "  <tbody>\n",
       "    <tr>\n",
       "      <th>0</th>\n",
       "      <td>0</td>\n",
       "      <td>nhknapwsbx@gmail.com</td>\n",
       "      <td>249.92</td>\n",
       "      <td>2015</td>\n",
       "    </tr>\n",
       "    <tr>\n",
       "      <th>1</th>\n",
       "      <td>1</td>\n",
       "      <td>joiuzbvcpn@gmail.com</td>\n",
       "      <td>87.61</td>\n",
       "      <td>2015</td>\n",
       "    </tr>\n",
       "    <tr>\n",
       "      <th>2</th>\n",
       "      <td>2</td>\n",
       "      <td>ukkjctepxt@gmail.com</td>\n",
       "      <td>168.38</td>\n",
       "      <td>2015</td>\n",
       "    </tr>\n",
       "    <tr>\n",
       "      <th>3</th>\n",
       "      <td>3</td>\n",
       "      <td>gykatilzrt@gmail.com</td>\n",
       "      <td>62.40</td>\n",
       "      <td>2015</td>\n",
       "    </tr>\n",
       "    <tr>\n",
       "      <th>4</th>\n",
       "      <td>4</td>\n",
       "      <td>mmsgsrtxah@gmail.com</td>\n",
       "      <td>43.08</td>\n",
       "      <td>2015</td>\n",
       "    </tr>\n",
       "  </tbody>\n",
       "</table>\n",
       "</div>"
      ],
      "text/plain": [
       "   index         customer_email  net_revenue  year\n",
       "0      0   nhknapwsbx@gmail.com       249.92  2015\n",
       "1      1   joiuzbvcpn@gmail.com        87.61  2015\n",
       "2      2   ukkjctepxt@gmail.com       168.38  2015\n",
       "3      3   gykatilzrt@gmail.com        62.40  2015\n",
       "4      4   mmsgsrtxah@gmail.com        43.08  2015"
      ]
     },
     "execution_count": 153,
     "metadata": {},
     "output_type": "execute_result"
    }
   ],
   "source": [
    "df1 = df1.drop(['Unnamed: 0'], axis = 1)\n",
    "df1.head()"
   ]
  },
  {
   "cell_type": "code",
   "execution_count": 154,
   "metadata": {},
   "outputs": [],
   "source": [
    "df2 = df1.copy()"
   ]
  },
  {
   "cell_type": "code",
   "execution_count": 155,
   "metadata": {},
   "outputs": [],
   "source": [
    "df1['customer_email'] = df1['customer_email'].str.rstrip().str.lstrip()"
   ]
  },
  {
   "cell_type": "code",
   "execution_count": 156,
   "metadata": {},
   "outputs": [
    {
     "name": "stdout",
     "output_type": "stream",
     "text": [
      "685927 4\n"
     ]
    }
   ],
   "source": [
    "size = df1.shape\n",
    "rows  = size[0]\n",
    "cols  = size[1]\n",
    "print(rows, cols)"
   ]
  },
  {
   "cell_type": "code",
   "execution_count": 157,
   "metadata": {},
   "outputs": [
    {
     "name": "stdout",
     "output_type": "stream",
     "text": [
      "[2015 2016 2017] 3\n"
     ]
    }
   ],
   "source": [
    "years = df1.year.unique()\n",
    "num_yrs = len(years)\n",
    "print(years, num_yrs)"
   ]
  },
  {
   "cell_type": "code",
   "execution_count": 183,
   "metadata": {},
   "outputs": [
    {
     "name": "stdout",
     "output_type": "stream",
     "text": [
      "total customers current year:  204646\n",
      "total customers previous year:  231294\n"
     ]
    }
   ],
   "source": [
    "#loop from here\n",
    "y1 = 2016\n",
    "y2 = 2015\n",
    "current_year = df1['year'] == y1\n",
    "current = df1[current_year]\n",
    "\n",
    "if y1 == 2015:\n",
    "    blank = {'index': [], 'customer_email': [], 'net_revenue': [], 'year': []}\n",
    "    previous = pd.DataFrame(blank)\n",
    "else:\n",
    "    previous_year = df1['year'] == y2\n",
    "    previous = df1[previous_year]\n",
    "\n",
    "# 1. total customers current year\n",
    "tot_curr = current.shape[0]\n",
    "\n",
    "# 2. total customers previous year\n",
    "tot_prev = previous.shape[0]\n",
    "\n",
    "print('total customers current year: ', tot_curr)\n",
    "print('total customers previous year: ', tot_prev)"
   ]
  },
  {
   "cell_type": "code",
   "execution_count": 161,
   "metadata": {},
   "outputs": [
    {
     "data": {
      "text/html": [
       "<div>\n",
       "<style scoped>\n",
       "    .dataframe tbody tr th:only-of-type {\n",
       "        vertical-align: middle;\n",
       "    }\n",
       "\n",
       "    .dataframe tbody tr th {\n",
       "        vertical-align: top;\n",
       "    }\n",
       "\n",
       "    .dataframe thead th {\n",
       "        text-align: right;\n",
       "    }\n",
       "</style>\n",
       "<table border=\"1\" class=\"dataframe\">\n",
       "  <thead>\n",
       "    <tr style=\"text-align: right;\">\n",
       "      <th></th>\n",
       "      <th>index</th>\n",
       "      <th>customer_email</th>\n",
       "      <th>net_revenue</th>\n",
       "      <th>year</th>\n",
       "    </tr>\n",
       "  </thead>\n",
       "  <tbody>\n",
       "    <tr>\n",
       "      <th>231294</th>\n",
       "      <td>231294</td>\n",
       "      <td>mwrossuukz@gmail.com</td>\n",
       "      <td>197.26</td>\n",
       "      <td>2016</td>\n",
       "    </tr>\n",
       "    <tr>\n",
       "      <th>231295</th>\n",
       "      <td>231295</td>\n",
       "      <td>gkwsoupawk@gmail.com</td>\n",
       "      <td>38.28</td>\n",
       "      <td>2016</td>\n",
       "    </tr>\n",
       "    <tr>\n",
       "      <th>231296</th>\n",
       "      <td>231296</td>\n",
       "      <td>vlyigtgfzs@gmail.com</td>\n",
       "      <td>154.57</td>\n",
       "      <td>2016</td>\n",
       "    </tr>\n",
       "    <tr>\n",
       "      <th>231297</th>\n",
       "      <td>231297</td>\n",
       "      <td>yfirychuhk@gmail.com</td>\n",
       "      <td>102.47</td>\n",
       "      <td>2016</td>\n",
       "    </tr>\n",
       "    <tr>\n",
       "      <th>231298</th>\n",
       "      <td>231298</td>\n",
       "      <td>trnzgqinuu@gmail.com</td>\n",
       "      <td>32.03</td>\n",
       "      <td>2016</td>\n",
       "    </tr>\n",
       "  </tbody>\n",
       "</table>\n",
       "</div>"
      ],
      "text/plain": [
       "         index        customer_email  net_revenue  year\n",
       "231294  231294  mwrossuukz@gmail.com       197.26  2016\n",
       "231295  231295  gkwsoupawk@gmail.com        38.28  2016\n",
       "231296  231296  vlyigtgfzs@gmail.com       154.57  2016\n",
       "231297  231297  yfirychuhk@gmail.com       102.47  2016\n",
       "231298  231298  trnzgqinuu@gmail.com        32.03  2016"
      ]
     },
     "execution_count": 161,
     "metadata": {},
     "output_type": "execute_result"
    }
   ],
   "source": [
    "current.head()"
   ]
  },
  {
   "cell_type": "code",
   "execution_count": 190,
   "metadata": {},
   "outputs": [
    {
     "data": {
      "text/plain": [
       "231294"
      ]
     },
     "execution_count": 190,
     "metadata": {},
     "output_type": "execute_result"
    }
   ],
   "source": [
    "curr_customers = current['customer_email']\n",
    "prev_customers = previous['customer_email']\n",
    "\n",
    "len(set(prev_customers))"
   ]
  },
  {
   "cell_type": "code",
   "execution_count": 185,
   "metadata": {},
   "outputs": [
    {
     "name": "stdout",
     "output_type": "stream",
     "text": [
      "total revenue for current year: 25730943.59\n"
     ]
    }
   ],
   "source": [
    "# 3. Total revenue for current year\n",
    "\n",
    "total_revenue_current = current['net_revenue'].sum()\n",
    "\n",
    "print('total revenue for current year:', total_revenue_current)"
   ]
  },
  {
   "cell_type": "code",
   "execution_count": 169,
   "metadata": {},
   "outputs": [
    {
     "name": "stdout",
     "output_type": "stream",
     "text": [
      "new_customers: 136891\n",
      "existing_customers: 67755\n"
     ]
    }
   ],
   "source": [
    "new_customers = set(curr_customers) - set(prev_customers)\n",
    "\n",
    "existing_customers = set(curr_customers) & set(prev_customers)\n",
    "\n",
    "print('new_customers:', len(new_customers))\n",
    "print('existing_customers:', len(existing_customers))"
   ]
  },
  {
   "cell_type": "code",
   "execution_count": 170,
   "metadata": {},
   "outputs": [],
   "source": [
    "e_curr = current['customer_email'].isin(existing_customers)\n",
    "existing_current_year = current[e_curr]\n",
    "\n",
    "e_prev = previous['customer_email'].isin(existing_customers)\n",
    "existing_previous_year = previous[e_prev]"
   ]
  },
  {
   "cell_type": "code",
   "execution_count": 172,
   "metadata": {},
   "outputs": [
    {
     "data": {
      "text/plain": [
       "67755"
      ]
     },
     "execution_count": 172,
     "metadata": {},
     "output_type": "execute_result"
    }
   ],
   "source": [
    "len(existing_current_year['customer_email'])"
   ]
  },
  {
   "cell_type": "code",
   "execution_count": 173,
   "metadata": {},
   "outputs": [],
   "source": [
    "n_curr = current['customer_email'].isin(new_customers)\n",
    "new_current_year = current[n_curr]\n",
    "\n",
    "n_prev = previous['customer_email'].isin(new_customers)\n",
    "new_previous_year = previous[n_prev]"
   ]
  },
  {
   "cell_type": "code",
   "execution_count": 176,
   "metadata": {},
   "outputs": [
    {
     "data": {
      "text/plain": [
       "136891"
      ]
     },
     "execution_count": 176,
     "metadata": {},
     "output_type": "execute_result"
    }
   ],
   "source": [
    "len(new_current_year['index'])"
   ]
  },
  {
   "cell_type": "code",
   "execution_count": 186,
   "metadata": {},
   "outputs": [
    {
     "name": "stdout",
     "output_type": "stream",
     "text": [
      "new customer revenue (new customers not in previous year only): 17206366.900000002\n"
     ]
    }
   ],
   "source": [
    "# 4. New customer revenue\n",
    "\n",
    "total_revenue_new_customers_current = new_current_year['net_revenue'].sum()\n",
    "\n",
    "print('new customer revenue (new customers not in previous year only):', total_revenue_new_customers_current)"
   ]
  },
  {
   "cell_type": "code",
   "execution_count": 187,
   "metadata": {},
   "outputs": [
    {
     "name": "stdout",
     "output_type": "stream",
     "text": [
      "existing customer growth: 39043.65000000037\n"
     ]
    }
   ],
   "source": [
    "# 5. Existing customer growth = Revenue of existing customers for current year – Revenue of existing customers from previous year\n",
    "\n",
    "total_revenue_existing_customers_current = existing_current_year['net_revenue'].sum()\n",
    "total_revenue_existing_customers_previous = existing_previous_year['net_revenue'].sum()\n",
    "\n",
    "existing_customer_growth = total_revenue_existing_customers_current - total_revenue_existing_customers_previous\n",
    "\n",
    "print('existing customer growth:', existing_customer_growth)"
   ]
  },
  {
   "cell_type": "code",
   "execution_count": 188,
   "metadata": {},
   "outputs": [
    {
     "name": "stdout",
     "output_type": "stream",
     "text": [
      "existing customer current year: 8524576.69\n",
      "existing customer previous year: 8485533.04\n"
     ]
    }
   ],
   "source": [
    "# 7. Existing customer revenue current year\n",
    "# 8. Existing customer revenue previous year\n",
    "\n",
    "print('existing customer current year:', total_revenue_existing_customers_current)\n",
    "print('existing customer previous year:', total_revenue_existing_customers_previous)"
   ]
  },
  {
   "cell_type": "code",
   "execution_count": 191,
   "metadata": {},
   "outputs": [
    {
     "name": "stdout",
     "output_type": "stream",
     "text": [
      "new_customers: 136891\n",
      "lost_customers: 163539\n"
     ]
    }
   ],
   "source": [
    "# 9. Number of new customers\n",
    "# 10. Number of customers lost\n",
    "\n",
    "new_customers = set(curr_customers) - set(prev_customers)\n",
    "\n",
    "lost_customers = set(prev_customers) - set(curr_customers)\n",
    "\n",
    "print('new_customers:', len(new_customers))\n",
    "print('lost_customers:', len(lost_customers))"
   ]
  },
  {
   "cell_type": "code",
   "execution_count": 192,
   "metadata": {},
   "outputs": [],
   "source": [
    "l_curr = current['customer_email'].isin(lost_customers)\n",
    "lost_current_year = current[l_curr]\n",
    "\n",
    "l_prev = previous['customer_email'].isin(lost_customers)\n",
    "lost_previous_year = previous[l_prev]"
   ]
  },
  {
   "cell_type": "code",
   "execution_count": 195,
   "metadata": {},
   "outputs": [
    {
     "data": {
      "text/plain": [
       "163539"
      ]
     },
     "execution_count": 195,
     "metadata": {},
     "output_type": "execute_result"
    }
   ],
   "source": [
    "len(lost_previous_year['index'])"
   ]
  },
  {
   "cell_type": "code",
   "execution_count": 196,
   "metadata": {},
   "outputs": [
    {
     "name": "stdout",
     "output_type": "stream",
     "text": [
      "revenue lost from attrition (revenue from customers lost from previous year): 20551216.150000002\n"
     ]
    }
   ],
   "source": [
    "# 6. Revenue lost from attrition\n",
    "\n",
    "total_revenue_lost_customers_previous = lost_previous_year['net_revenue'].sum()\n",
    "\n",
    "print('revenue lost from attrition (revenue from customers lost from previous year):', total_revenue_lost_customers_previous)"
   ]
  },
  {
   "cell_type": "code",
   "execution_count": 213,
   "metadata": {},
   "outputs": [],
   "source": [
    "def value_calculator(y1, y2, df1):\n",
    "    \n",
    "    # create 2 dfs for current and previous year\n",
    "    \n",
    "    current_year = df1['year'] == y1\n",
    "    current = df1[current_year]\n",
    "\n",
    "    if y1 == 2015:\n",
    "        blank = {'index': [], 'customer_email': [], 'net_revenue': [], 'year': []}\n",
    "        previous = pd.DataFrame(blank)\n",
    "    else:\n",
    "        previous_year = df1['year'] == y2\n",
    "        previous = df1[previous_year]\n",
    "        \n",
    "    # 1. total customers current year\n",
    "    tot_curr = current.shape[0]\n",
    "\n",
    "    # 2. total customers previous year\n",
    "    tot_prev = previous.shape[0]\n",
    "\n",
    "    #print('total customers current year: ', tot_curr)\n",
    "    #print('total customers previous year: ', tot_prev)\n",
    "    \n",
    "    # 3. Total revenue for current year\n",
    "\n",
    "    total_revenue_current = current['net_revenue'].sum()\n",
    "\n",
    "    #print('total revenue for current year:', total_revenue_current)\n",
    "    \n",
    "    \n",
    "    # New, existing and lost \n",
    "    \n",
    "    curr_customers = current['customer_email']\n",
    "    prev_customers = previous['customer_email']\n",
    "    \n",
    "    new_customers = set(curr_customers) - set(prev_customers)\n",
    "\n",
    "    existing_customers = set(curr_customers) & set(prev_customers)\n",
    "    \n",
    "    lost_customers = set(prev_customers) - set(curr_customers)\n",
    "    \n",
    "    # 9. Number of new customers\n",
    "    # 10. Number of customers lost\n",
    "\n",
    "    #print('new_customers:', len(new_customers))\n",
    "    #print('existing_customers:', len(existing_customers))\n",
    "    #print('lost_customers:', len(lost_customers))\n",
    "    \n",
    "    \n",
    "    e_curr = current['customer_email'].isin(existing_customers)\n",
    "    existing_current_year = current[e_curr]\n",
    "\n",
    "    e_prev = previous['customer_email'].isin(existing_customers)\n",
    "    existing_previous_year = previous[e_prev]\n",
    "    \n",
    "    n_curr = current['customer_email'].isin(new_customers)\n",
    "    new_current_year = current[n_curr]\n",
    "\n",
    "    n_prev = previous['customer_email'].isin(new_customers)\n",
    "    new_previous_year = previous[n_prev]\n",
    "    \n",
    "    l_curr = current['customer_email'].isin(lost_customers)\n",
    "    lost_current_year = current[l_curr]\n",
    "\n",
    "    l_prev = previous['customer_email'].isin(lost_customers)\n",
    "    lost_previous_year = previous[l_prev]\n",
    "    \n",
    "    # 4. New customer revenue\n",
    "\n",
    "    total_revenue_new_customers_current = new_current_year['net_revenue'].sum()\n",
    "\n",
    "    #print('new customer revenue (new customers not in previous year only):', total_revenue_new_customers_current)\n",
    "    \n",
    "    \n",
    "    # 5. Existing customer growth = Revenue of existing customers for current year – Revenue of existing customers from previous year\n",
    "\n",
    "    total_revenue_existing_customers_current = existing_current_year['net_revenue'].sum()\n",
    "    total_revenue_existing_customers_previous = existing_previous_year['net_revenue'].sum()\n",
    "\n",
    "    existing_customer_growth = total_revenue_existing_customers_current - total_revenue_existing_customers_previous\n",
    "\n",
    "    #print('existing customer growth:', existing_customer_growth)\n",
    "    \n",
    "    # 6. Revenue lost from attrition\n",
    "\n",
    "    total_revenue_lost_customers_previous = lost_previous_year['net_revenue'].sum()\n",
    "    \n",
    "    #print('revenue lost from attrition (revenue from customers lost from previous year):', total_revenue_lost_customers_previous)\n",
    "    \n",
    "    # 7. Existing customer revenue current year\n",
    "    # 8. Existing customer revenue previous year\n",
    "\n",
    "    #print('existing customer revenue current year:', total_revenue_existing_customers_current)\n",
    "    #print('existing customer revenue previous year:', total_revenue_existing_customers_previous)\n",
    "    \n",
    "    d = {'current_year': y1,\n",
    "         'previous_year': y2,\n",
    "         'total_customers_current_year': tot_curr,\n",
    "         'total_customers_previous_year': tot_prev,\n",
    "         'new_customers': len(new_customers),\n",
    "         'lost_customers': len(lost_customers),\n",
    "         'existing_customers': len(existing_customers),\n",
    "         'existing_customer_revenue_current_year': total_revenue_existing_customers_current,\n",
    "         'existing_customer_revenue_previous_year': total_revenue_existing_customers_previous,\n",
    "         'existing_customer_revenue_growth': existing_customer_growth,\n",
    "         'revenue_lost_from_attrition': total_revenue_lost_customers_previous,\n",
    "         'total_revenue_current_year': total_revenue_current,\n",
    "         'new_customer_revenue': total_revenue_new_customers_current\n",
    "        }\n",
    "    \n",
    "    return d\n",
    "\n"
   ]
  },
  {
   "cell_type": "code",
   "execution_count": 214,
   "metadata": {},
   "outputs": [],
   "source": [
    "d1 = value_calculator(2015, 2014, df1.copy())\n",
    "d2 = value_calculator(2016, 2015, df1.copy())\n",
    "d3 = value_calculator(2017, 2016, df1.copy())"
   ]
  },
  {
   "cell_type": "code",
   "execution_count": 215,
   "metadata": {},
   "outputs": [
    {
     "data": {
      "text/plain": [
       "{'current_year': 2015,\n",
       " 'previous_year': 2014,\n",
       " 'total_customers_current_year': 231294,\n",
       " 'total_customers_previous_year': 0,\n",
       " 'new_customers': 231294,\n",
       " 'lost_customers': 0,\n",
       " 'existing_customers': 0,\n",
       " 'existing_customer_revenue_current_year': 0.0,\n",
       " 'existing_customer_revenue_previous_year': 0.0,\n",
       " 'existing_customer_revenue_growth': 0.0,\n",
       " 'revenue_lost_from_attrition': 0.0,\n",
       " 'total_revenue_current_year': 29036749.189999994,\n",
       " 'new_customer_revenue': 29036749.189999994}"
      ]
     },
     "execution_count": 215,
     "metadata": {},
     "output_type": "execute_result"
    }
   ],
   "source": [
    "d1"
   ]
  },
  {
   "cell_type": "code",
   "execution_count": 216,
   "metadata": {},
   "outputs": [],
   "source": [
    "ds = [d1, d2, d3]\n",
    "d = {}\n",
    "for k in d1.keys():\n",
    "    d[k] = list(d[k] for d in ds)"
   ]
  },
  {
   "cell_type": "code",
   "execution_count": 217,
   "metadata": {},
   "outputs": [
    {
     "data": {
      "text/html": [
       "<div>\n",
       "<style scoped>\n",
       "    .dataframe tbody tr th:only-of-type {\n",
       "        vertical-align: middle;\n",
       "    }\n",
       "\n",
       "    .dataframe tbody tr th {\n",
       "        vertical-align: top;\n",
       "    }\n",
       "\n",
       "    .dataframe thead th {\n",
       "        text-align: right;\n",
       "    }\n",
       "</style>\n",
       "<table border=\"1\" class=\"dataframe\">\n",
       "  <thead>\n",
       "    <tr style=\"text-align: right;\">\n",
       "      <th></th>\n",
       "      <th>current_year</th>\n",
       "      <th>previous_year</th>\n",
       "      <th>total_customers_current_year</th>\n",
       "      <th>total_customers_previous_year</th>\n",
       "      <th>new_customers</th>\n",
       "      <th>lost_customers</th>\n",
       "      <th>existing_customers</th>\n",
       "      <th>existing_customer_revenue_current_year</th>\n",
       "      <th>existing_customer_revenue_previous_year</th>\n",
       "      <th>existing_customer_revenue_growth</th>\n",
       "      <th>revenue_lost_from_attrition</th>\n",
       "      <th>total_revenue_current_year</th>\n",
       "      <th>new_customer_revenue</th>\n",
       "    </tr>\n",
       "  </thead>\n",
       "  <tbody>\n",
       "    <tr>\n",
       "      <th>0</th>\n",
       "      <td>2015</td>\n",
       "      <td>2014</td>\n",
       "      <td>231294</td>\n",
       "      <td>0</td>\n",
       "      <td>231294</td>\n",
       "      <td>0</td>\n",
       "      <td>0</td>\n",
       "      <td>0.00</td>\n",
       "      <td>0.00</td>\n",
       "      <td>0.00</td>\n",
       "      <td>0.00</td>\n",
       "      <td>29036749.19</td>\n",
       "      <td>29036749.19</td>\n",
       "    </tr>\n",
       "    <tr>\n",
       "      <th>1</th>\n",
       "      <td>2016</td>\n",
       "      <td>2015</td>\n",
       "      <td>204646</td>\n",
       "      <td>231294</td>\n",
       "      <td>136891</td>\n",
       "      <td>163539</td>\n",
       "      <td>67755</td>\n",
       "      <td>8524576.69</td>\n",
       "      <td>8485533.04</td>\n",
       "      <td>39043.65</td>\n",
       "      <td>20551216.15</td>\n",
       "      <td>25730943.59</td>\n",
       "      <td>17206366.90</td>\n",
       "    </tr>\n",
       "    <tr>\n",
       "      <th>2</th>\n",
       "      <td>2017</td>\n",
       "      <td>2016</td>\n",
       "      <td>249987</td>\n",
       "      <td>204646</td>\n",
       "      <td>173449</td>\n",
       "      <td>128108</td>\n",
       "      <td>76538</td>\n",
       "      <td>9648282.02</td>\n",
       "      <td>9584424.96</td>\n",
       "      <td>63857.06</td>\n",
       "      <td>16146518.63</td>\n",
       "      <td>31417495.03</td>\n",
       "      <td>21769213.01</td>\n",
       "    </tr>\n",
       "  </tbody>\n",
       "</table>\n",
       "</div>"
      ],
      "text/plain": [
       "   current_year  previous_year  total_customers_current_year  \\\n",
       "0          2015           2014                        231294   \n",
       "1          2016           2015                        204646   \n",
       "2          2017           2016                        249987   \n",
       "\n",
       "   total_customers_previous_year  new_customers  lost_customers  \\\n",
       "0                              0         231294               0   \n",
       "1                         231294         136891          163539   \n",
       "2                         204646         173449          128108   \n",
       "\n",
       "   existing_customers  existing_customer_revenue_current_year  \\\n",
       "0                   0                                    0.00   \n",
       "1               67755                              8524576.69   \n",
       "2               76538                              9648282.02   \n",
       "\n",
       "   existing_customer_revenue_previous_year  existing_customer_revenue_growth  \\\n",
       "0                                     0.00                              0.00   \n",
       "1                               8485533.04                          39043.65   \n",
       "2                               9584424.96                          63857.06   \n",
       "\n",
       "   revenue_lost_from_attrition  total_revenue_current_year  \\\n",
       "0                         0.00                 29036749.19   \n",
       "1                  20551216.15                 25730943.59   \n",
       "2                  16146518.63                 31417495.03   \n",
       "\n",
       "   new_customer_revenue  \n",
       "0           29036749.19  \n",
       "1           17206366.90  \n",
       "2           21769213.01  "
      ]
     },
     "execution_count": 217,
     "metadata": {},
     "output_type": "execute_result"
    }
   ],
   "source": [
    "result = pd.DataFrame.from_dict(d)\n",
    "\n",
    "result"
   ]
  },
  {
   "cell_type": "code",
   "execution_count": 218,
   "metadata": {},
   "outputs": [
    {
     "data": {
      "text/plain": [
       "'|    |   current_year |   previous_year |   total_customers_current_year |   total_customers_previous_year |   new_customers |   lost_customers |   existing_customers |   existing_customer_revenue_current_year |   existing_customer_revenue_previous_year |   existing_customer_revenue_growth |   revenue_lost_from_attrition |   total_revenue_current_year |   new_customer_revenue |\\n|---:|---------------:|----------------:|-------------------------------:|--------------------------------:|----------------:|-----------------:|---------------------:|-----------------------------------------:|------------------------------------------:|-----------------------------------:|------------------------------:|-----------------------------:|-----------------------:|\\n|  0 |           2015 |            2014 |                         231294 |                               0 |          231294 |                0 |                    0 |                              0           |                               0           |                                0   |                   0           |                  2.90367e+07 |            2.90367e+07 |\\n|  1 |           2016 |            2015 |                         204646 |                          231294 |          136891 |           163539 |                67755 |                              8.52458e+06 |                               8.48553e+06 |                            39043.7 |                   2.05512e+07 |                  2.57309e+07 |            1.72064e+07 |\\n|  2 |           2017 |            2016 |                         249987 |                          204646 |          173449 |           128108 |                76538 |                              9.64828e+06 |                               9.58442e+06 |                            63857.1 |                   1.61465e+07 |                  3.14175e+07 |            2.17692e+07 |'"
      ]
     },
     "execution_count": 218,
     "metadata": {},
     "output_type": "execute_result"
    }
   ],
   "source": [
    "result.to_markdown()"
   ]
  },
  {
   "cell_type": "code",
   "execution_count": null,
   "metadata": {},
   "outputs": [],
   "source": []
  }
 ],
 "metadata": {
  "kernelspec": {
   "display_name": "Python 3",
   "language": "python",
   "name": "python3"
  },
  "language_info": {
   "codemirror_mode": {
    "name": "ipython",
    "version": 3
   },
   "file_extension": ".py",
   "mimetype": "text/x-python",
   "name": "python",
   "nbconvert_exporter": "python",
   "pygments_lexer": "ipython3",
   "version": "3.8.1"
  }
 },
 "nbformat": 4,
 "nbformat_minor": 4
}
